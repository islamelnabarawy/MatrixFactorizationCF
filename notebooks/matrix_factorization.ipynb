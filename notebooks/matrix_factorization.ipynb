{
 "cells": [
  {
   "cell_type": "markdown",
   "metadata": {},
   "source": [
    "# Collaborative Filtering Recommendations via Matrix Factorization"
   ]
  },
  {
   "cell_type": "markdown",
   "metadata": {},
   "source": [
    "## Step 1: Set parameters and download dataset if it does not exist"
   ]
  },
  {
   "cell_type": "code",
   "execution_count": 1,
   "metadata": {
    "collapsed": true
   },
   "outputs": [],
   "source": [
    "import os\n",
    "import urllib.request\n",
    "import zipfile"
   ]
  },
  {
   "cell_type": "code",
   "execution_count": 2,
   "metadata": {
    "collapsed": true
   },
   "outputs": [],
   "source": [
    "# dataset choices: 100k, 1m, 10m, 20m, latest-small, latest\n",
    "dataset = '100k'\n",
    "data_dir = 'data/'\n",
    "input_dir = '{}ml-{}'.format(data_dir, dataset)"
   ]
  },
  {
   "cell_type": "code",
   "execution_count": 3,
   "metadata": {
    "collapsed": true
   },
   "outputs": [],
   "source": [
    "def download_dataset(dataset, out_dir):\n",
    "    zip_format = '{}ml-{}.zip'\n",
    "    base_url = 'http://files.grouplens.org/datasets/movielens/'\n",
    "    \n",
    "    zip_url = zip_format.format(base_url, dataset)\n",
    "\n",
    "    os.makedirs(data_dir, exist_ok=True)\n",
    "\n",
    "    zip_file, _ = urllib.request.urlretrieve(zip_url)\n",
    "\n",
    "    with zipfile.ZipFile(zip_file, 'r') as zip_ref:\n",
    "        zip_ref.extractall(out_dir)\n",
    "\n",
    "    os.unlink(zip_file)"
   ]
  },
  {
   "cell_type": "code",
   "execution_count": 4,
   "metadata": {},
   "outputs": [
    {
     "name": "stdout",
     "output_type": "stream",
     "text": [
      "Database already exists.\n"
     ]
    }
   ],
   "source": [
    "if not os.path.exists(input_dir):\n",
    "    download_dataset(dataset, data_dir)\n",
    "    print(\"Database downloaded.\")\n",
    "else:\n",
    "    print(\"Database already exists.\")"
   ]
  },
  {
   "cell_type": "markdown",
   "metadata": {},
   "source": [
    "## Step 2: Read the rating data as a coordinate list"
   ]
  },
  {
   "cell_type": "code",
   "execution_count": 5,
   "metadata": {
    "collapsed": true
   },
   "outputs": [],
   "source": [
    "import numpy as np"
   ]
  },
  {
   "cell_type": "code",
   "execution_count": 6,
   "metadata": {
    "collapsed": true
   },
   "outputs": [],
   "source": [
    "train_input_file = 'u1.base'\n",
    "test_input_file = 'u1.test'"
   ]
  },
  {
   "cell_type": "code",
   "execution_count": 7,
   "metadata": {
    "collapsed": true
   },
   "outputs": [],
   "source": [
    "def get_file_data(input_file, separator='\\t', ignore_extra=True):\n",
    "    with open(input_file, 'r') as in_file:\n",
    "        file_data = np.array([[int(v) for v in line.split(separator)] for line in in_file], dtype=np.int32)\n",
    "    if ignore_extra:\n",
    "        file_data = file_data[:, :3]\n",
    "    return file_data"
   ]
  },
  {
   "cell_type": "code",
   "execution_count": 8,
   "metadata": {
    "collapsed": true
   },
   "outputs": [],
   "source": [
    "train_data = get_file_data(os.path.join(input_dir, train_input_file))\n",
    "test_data = get_file_data(os.path.join(input_dir, test_input_file))\n",
    "\n",
    "user_indices_train = train_data[:, 0]\n",
    "user_indices_test = test_data[:, 0]\n",
    "num_users = max(np.max(user_indices_train), np.max(user_indices_test))\n",
    "\n",
    "item_indices_train = train_data[:, 1]\n",
    "item_indices_test = test_data[:, 1]\n",
    "num_items = max(np.max(item_indices_train), np.max(item_indices_test))\n",
    "\n",
    "rating_values = np.array(train_data[:, 2], dtype=np.float32)\n",
    "num_ratings = np.size(rating_values)\n",
    "mean_rating = np.mean(rating_values)"
   ]
  },
  {
   "cell_type": "code",
   "execution_count": 9,
   "metadata": {
    "collapsed": true
   },
   "outputs": [],
   "source": [
    "rank = 5\n",
    "_lambda = 10.0\n",
    "learn_rate = 0.01\n",
    "threshold = 0.5\n",
    "max_iter = 1000\n",
    "report_freq = 50"
   ]
  },
  {
   "cell_type": "code",
   "execution_count": 10,
   "metadata": {},
   "outputs": [
    {
     "name": "stdout",
     "output_type": "stream",
     "text": [
      "(80000, 3) (20000, 3) (943, 1682, 80000) (80000,) (20000,) (80000,) (20000,) (3.5283501, 5, 10.0)\n"
     ]
    }
   ],
   "source": [
    "print(\n",
    "    train_data.shape, test_data.shape, \n",
    "    (num_users, num_items, num_ratings), \n",
    "    user_indices_train.shape, user_indices_test.shape,\n",
    "    item_indices_train.shape, item_indices_test.shape,\n",
    "    (mean_rating, rank, _lambda)\n",
    ")"
   ]
  },
  {
   "cell_type": "markdown",
   "metadata": {},
   "source": [
    "## Step 3: Build TensorFlow graph"
   ]
  },
  {
   "cell_type": "code",
   "execution_count": 11,
   "metadata": {
    "collapsed": true
   },
   "outputs": [],
   "source": [
    "import tensorflow as tf"
   ]
  },
  {
   "cell_type": "code",
   "execution_count": 12,
   "metadata": {
    "collapsed": true
   },
   "outputs": [],
   "source": [
    "W = tf.Variable(tf.truncated_normal([num_users, rank], stddev=0.2, mean=0), name=\"users\")\n",
    "H = tf.Variable(tf.truncated_normal([rank, num_items], stddev=0.2, mean=0), name=\"items\")"
   ]
  },
  {
   "cell_type": "code",
   "execution_count": 13,
   "metadata": {
    "collapsed": true,
    "scrolled": true
   },
   "outputs": [],
   "source": [
    "result = tf.matmul(W, H)\n",
    "result_values = tf.gather(tf.reshape(result, [-1]), user_indices_train * tf.shape(result)[1] + item_indices_train,\n",
    "                          name=\"extract_training_ratings\")"
   ]
  },
  {
   "cell_type": "code",
   "execution_count": 14,
   "metadata": {
    "collapsed": true
   },
   "outputs": [],
   "source": [
    "diff_op = tf.subtract(tf.add(result_values, mean_rating, name=\"add_mean\"), rating_values, name=\"raw_training_error\")"
   ]
  },
  {
   "cell_type": "code",
   "execution_count": 15,
   "metadata": {
    "collapsed": true
   },
   "outputs": [],
   "source": [
    "with tf.name_scope(\"training_cost\") as scope:\n",
    "    base_cost = tf.reduce_sum(tf.square(diff_op, name=\"squared_difference\"), name=\"sum_squared_error\")\n",
    "    # Add regularization.\n",
    "    regularizer = tf.multiply(tf.add(tf.reduce_sum(tf.square(W)), tf.reduce_sum(tf.square(H))), _lambda, name=\"regularize\")\n",
    "    cost = tf.divide(tf.add(base_cost, regularizer), num_ratings * 2.0, name=\"average_error\")"
   ]
  },
  {
   "cell_type": "code",
   "execution_count": 16,
   "metadata": {
    "collapsed": true
   },
   "outputs": [],
   "source": [
    "# Use an exponentially decaying learning rate.\n",
    "global_step = tf.Variable(0, trainable=False)\n",
    "learning_rate = tf.train.exponential_decay(learn_rate, global_step, 10000, 0.96, staircase=True)"
   ]
  },
  {
   "cell_type": "code",
   "execution_count": 17,
   "metadata": {
    "collapsed": true
   },
   "outputs": [],
   "source": [
    "with tf.name_scope(\"train\") as scope:\n",
    "    optimizer = tf.train.GradientDescentOptimizer(learning_rate)\n",
    "    # Passing global_step to minimize() will increment it at each step so\n",
    "    # that the learning rate will be decayed at the specified intervals.\n",
    "    train_step = optimizer.minimize(cost, global_step=global_step)"
   ]
  },
  {
   "cell_type": "code",
   "execution_count": 18,
   "metadata": {
    "collapsed": true
   },
   "outputs": [],
   "source": [
    "with tf.name_scope(\"training_accuracy\") as scope:\n",
    "    # Just measure the absolute difference against the threshold\n",
    "    good = tf.less(tf.abs(diff_op), threshold)\n",
    "\n",
    "    accuracy_tr = tf.div(tf.reduce_sum(tf.cast(good, tf.float32)), num_ratings)"
   ]
  },
  {
   "cell_type": "markdown",
   "metadata": {},
   "source": [
    "### Step 4: Run training and evaluation"
   ]
  },
  {
   "cell_type": "code",
   "execution_count": 19,
   "metadata": {},
   "outputs": [
    {
     "name": "stdout",
     "output_type": "stream",
     "text": [
      "Training accuracy at step 0: 0.320188\n",
      "Training cost: 0.653117\n",
      "Training accuracy at step 50: 0.320237\n",
      "Training cost: 0.65311\n",
      "Training accuracy at step 100: 0.320275\n",
      "Training cost: 0.653103\n",
      "Training accuracy at step 150: 0.320275\n",
      "Training cost: 0.653096\n",
      "Training accuracy at step 200: 0.3203\n",
      "Training cost: 0.653089\n",
      "Training accuracy at step 250: 0.320325\n",
      "Training cost: 0.653082\n",
      "Training accuracy at step 300: 0.320338\n",
      "Training cost: 0.653076\n",
      "Training accuracy at step 350: 0.32035\n",
      "Training cost: 0.653069\n",
      "Training accuracy at step 400: 0.32035\n",
      "Training cost: 0.653062\n",
      "Training accuracy at step 450: 0.32035\n",
      "Training cost: 0.653055\n",
      "Training accuracy at step 500: 0.320338\n",
      "Training cost: 0.653048\n",
      "Training accuracy at step 550: 0.32035\n",
      "Training cost: 0.653041\n",
      "Training accuracy at step 600: 0.320363\n",
      "Training cost: 0.653035\n",
      "Training accuracy at step 650: 0.320363\n",
      "Training cost: 0.653028\n",
      "Training accuracy at step 700: 0.320388\n",
      "Training cost: 0.653021\n",
      "Training accuracy at step 750: 0.32035\n",
      "Training cost: 0.653014\n",
      "Training accuracy at step 800: 0.320363\n",
      "Training cost: 0.653008\n",
      "Training accuracy at step 850: 0.320363\n",
      "Training cost: 0.653001\n",
      "Training accuracy at step 900: 0.320412\n",
      "Training cost: 0.652994\n",
      "Training accuracy at step 950: 0.320412\n",
      "Training cost: 0.652987\n",
      "Training accuracy at step 1000: 0.320412\n",
      "Training cost: 0.65298\n"
     ]
    }
   ],
   "source": [
    "with tf.Session() as sess:\n",
    "    sess.run(tf.global_variables_initializer())\n",
    "    # Run the graph and see how we're doing on every 500th iteration.\n",
    "    for i in range(max_iter+1):\n",
    "        if i % report_freq == 0:\n",
    "            res = sess.run([accuracy_tr, cost])\n",
    "            acc_tr = res[0]\n",
    "            cost_ev = res[1]\n",
    "            print(\"Training accuracy at step %s: %s\" % (i, acc_tr))\n",
    "            print(\"Training cost: %s\" % (cost_ev))\n",
    "        else:\n",
    "            sess.run(train_step)"
   ]
  }
 ],
 "metadata": {
  "kernelspec": {
   "display_name": "Python 3",
   "language": "python",
   "name": "python3"
  },
  "language_info": {
   "codemirror_mode": {
    "name": "ipython",
    "version": 3
   },
   "file_extension": ".py",
   "mimetype": "text/x-python",
   "name": "python",
   "nbconvert_exporter": "python",
   "pygments_lexer": "ipython3",
   "version": "3.5.3"
  }
 },
 "nbformat": 4,
 "nbformat_minor": 1
}
